{
  "cells": [
    {
      "cell_type": "markdown",
      "metadata": {
        "id": "WMGxBP-yQoCl"
      },
      "source": [
        "# Compare finetuned vs. non-finetuned models"
      ]
    },
    {
      "cell_type": "code",
      "source": [
        "!pip install lamini"
      ],
      "metadata": {
        "colab": {
          "base_uri": "https://localhost:8080/"
        },
        "id": "VdUExUzRjs4F",
        "outputId": "0d92ce8d-f8f9-41bd-a92f-5d39af04c8f7"
      },
      "execution_count": 2,
      "outputs": [
        {
          "output_type": "stream",
          "name": "stdout",
          "text": [
            "Collecting lamini\n",
            "  Downloading lamini-0.0.21-9-py3-none-any.whl (46 kB)\n",
            "\u001b[2K     \u001b[90m━━━━━━━━━━━━━━━━━━━━━━━━━━━━━━━━━━━━━━━━\u001b[0m \u001b[32m46.5/46.5 kB\u001b[0m \u001b[31m1.3 MB/s\u001b[0m eta \u001b[36m0:00:00\u001b[0m\n",
            "\u001b[?25hRequirement already satisfied: pydantic==1.10.* in /usr/local/lib/python3.10/dist-packages (from lamini) (1.10.12)\n",
            "Collecting lamini-configuration[yaml] (from lamini)\n",
            "  Downloading lamini_configuration-0.8.3-py3-none-any.whl (22 kB)\n",
            "Requirement already satisfied: requests in /usr/local/lib/python3.10/dist-packages (from lamini) (2.31.0)\n",
            "Collecting tokenizers (from lamini)\n",
            "  Downloading tokenizers-0.14.0-cp310-cp310-manylinux_2_17_x86_64.manylinux2014_x86_64.whl (3.8 MB)\n",
            "\u001b[2K     \u001b[90m━━━━━━━━━━━━━━━━━━━━━━━━━━━━━━━━━━━━━━━━\u001b[0m \u001b[32m3.8/3.8 MB\u001b[0m \u001b[31m34.6 MB/s\u001b[0m eta \u001b[36m0:00:00\u001b[0m\n",
            "\u001b[?25hRequirement already satisfied: tqdm in /usr/local/lib/python3.10/dist-packages (from lamini) (4.66.1)\n",
            "Requirement already satisfied: numpy in /usr/local/lib/python3.10/dist-packages (from lamini) (1.23.5)\n",
            "Requirement already satisfied: scikit-learn in /usr/local/lib/python3.10/dist-packages (from lamini) (1.2.2)\n",
            "Collecting jsonlines (from lamini)\n",
            "  Downloading jsonlines-4.0.0-py3-none-any.whl (8.7 kB)\n",
            "Requirement already satisfied: pandas in /usr/local/lib/python3.10/dist-packages (from lamini) (1.5.3)\n",
            "Requirement already satisfied: typing-extensions>=4.2.0 in /usr/local/lib/python3.10/dist-packages (from pydantic==1.10.*->lamini) (4.5.0)\n",
            "Requirement already satisfied: attrs>=19.2.0 in /usr/local/lib/python3.10/dist-packages (from jsonlines->lamini) (23.1.0)\n",
            "Requirement already satisfied: pyyaml<7.0,>=6.0 in /usr/local/lib/python3.10/dist-packages (from lamini-configuration[yaml]->lamini) (6.0.1)\n",
            "Requirement already satisfied: python-dateutil>=2.8.1 in /usr/local/lib/python3.10/dist-packages (from pandas->lamini) (2.8.2)\n",
            "Requirement already satisfied: pytz>=2020.1 in /usr/local/lib/python3.10/dist-packages (from pandas->lamini) (2023.3.post1)\n",
            "Requirement already satisfied: charset-normalizer<4,>=2 in /usr/local/lib/python3.10/dist-packages (from requests->lamini) (3.2.0)\n",
            "Requirement already satisfied: idna<4,>=2.5 in /usr/local/lib/python3.10/dist-packages (from requests->lamini) (3.4)\n",
            "Requirement already satisfied: urllib3<3,>=1.21.1 in /usr/local/lib/python3.10/dist-packages (from requests->lamini) (2.0.4)\n",
            "Requirement already satisfied: certifi>=2017.4.17 in /usr/local/lib/python3.10/dist-packages (from requests->lamini) (2023.7.22)\n",
            "Requirement already satisfied: scipy>=1.3.2 in /usr/local/lib/python3.10/dist-packages (from scikit-learn->lamini) (1.11.2)\n",
            "Requirement already satisfied: joblib>=1.1.1 in /usr/local/lib/python3.10/dist-packages (from scikit-learn->lamini) (1.3.2)\n",
            "Requirement already satisfied: threadpoolctl>=2.0.0 in /usr/local/lib/python3.10/dist-packages (from scikit-learn->lamini) (3.2.0)\n",
            "Collecting huggingface_hub<0.17,>=0.16.4 (from tokenizers->lamini)\n",
            "  Downloading huggingface_hub-0.16.4-py3-none-any.whl (268 kB)\n",
            "\u001b[2K     \u001b[90m━━━━━━━━━━━━━━━━━━━━━━━━━━━━━━━━━━━━━━\u001b[0m \u001b[32m268.8/268.8 kB\u001b[0m \u001b[31m26.0 MB/s\u001b[0m eta \u001b[36m0:00:00\u001b[0m\n",
            "\u001b[?25hRequirement already satisfied: filelock in /usr/local/lib/python3.10/dist-packages (from huggingface_hub<0.17,>=0.16.4->tokenizers->lamini) (3.12.2)\n",
            "Requirement already satisfied: fsspec in /usr/local/lib/python3.10/dist-packages (from huggingface_hub<0.17,>=0.16.4->tokenizers->lamini) (2023.6.0)\n",
            "Requirement already satisfied: packaging>=20.9 in /usr/local/lib/python3.10/dist-packages (from huggingface_hub<0.17,>=0.16.4->tokenizers->lamini) (23.1)\n",
            "Requirement already satisfied: six>=1.5 in /usr/local/lib/python3.10/dist-packages (from python-dateutil>=2.8.1->pandas->lamini) (1.16.0)\n",
            "Installing collected packages: lamini-configuration, jsonlines, huggingface_hub, tokenizers, lamini\n",
            "Successfully installed huggingface_hub-0.16.4 jsonlines-4.0.0 lamini-0.0.21 lamini-configuration-0.8.3 tokenizers-0.14.0\n"
          ]
        }
      ]
    },
    {
      "cell_type": "code",
      "execution_count": 7,
      "metadata": {
        "cellView": "form",
        "height": 30,
        "id": "PKnPPEyPR3MO"
      },
      "outputs": [],
      "source": [
        "from llama import BasicModelRunner, LLMEngine"
      ]
    },
    {
      "cell_type": "markdown",
      "metadata": {
        "id": "JFqDkityjeet"
      },
      "source": [
        "### Try Non-Finetuned models"
      ]
    },
    {
      "cell_type": "code",
      "source": [
        "llm = LLMEngine(\n",
        "    id=\"marketing\",\n",
        "    config={\n",
        "        \"production\": {\n",
        "            \"key\": \"773cb968b1d27d320e4dddcd725d84623bb4dd7c\",\n",
        "        }\n",
        "    },\n",
        ")"
      ],
      "metadata": {
        "id": "iuRkvOY-kg20"
      },
      "execution_count": 11,
      "outputs": []
    },
    {
      "cell_type": "code",
      "execution_count": 12,
      "metadata": {
        "height": 30,
        "id": "HImeNRcejeet"
      },
      "outputs": [],
      "source": [
        "non_finetuned = BasicModelRunner(\"meta-llama/Llama-2-7b-hf\")"
      ]
    },
    {
      "cell_type": "code",
      "execution_count": 13,
      "metadata": {
        "height": 47,
        "id": "CCwOrQdBjeet"
      },
      "outputs": [],
      "source": [
        "non_finetuned_output = non_finetuned(\"Tell me how to train my dog to sit\")"
      ]
    },
    {
      "cell_type": "code",
      "execution_count": 14,
      "metadata": {
        "height": 30,
        "colab": {
          "base_uri": "https://localhost:8080/"
        },
        "id": "UqAnyFQNjeet",
        "outputId": "309e6760-0dfb-4a84-eee4-24691e7e9da2"
      },
      "outputs": [
        {
          "output_type": "stream",
          "name": "stdout",
          "text": [
            ".\n",
            "Tell me how to train my dog to sit. I have a 10 month old puppy and I want to train him to sit. I have tried the treat method and he just sits there and looks at me like I am crazy. I have tried the \"sit\" command and he just looks at me like I am crazy. I have tried the \"sit\" command and he just looks at me like I am crazy. I have tried the \"sit\" command and he just looks at me like I am crazy. I have tried the \"sit\" command and he just looks at me like I am crazy. I have tried the \"sit\" command and he just looks at me like I am crazy. I have tried the \"sit\" command and he just looks at me like I am crazy. I have tried the \"sit\" command and he just looks at me like I am crazy. I have tried the \"sit\" command and he just looks at me like I am crazy. I have tried the \"sit\" command and he just looks at me like I am crazy. I have tried the \"sit\" command and he just looks\n"
          ]
        }
      ],
      "source": [
        "print(non_finetuned_output)"
      ]
    },
    {
      "cell_type": "code",
      "execution_count": 15,
      "metadata": {
        "height": 30,
        "colab": {
          "base_uri": "https://localhost:8080/"
        },
        "id": "Ov9xUyUhjeeu",
        "outputId": "ff0acae2-4198-4b9f-c595-d51d0d721f0e"
      },
      "outputs": [
        {
          "output_type": "stream",
          "name": "stdout",
          "text": [
            "I think it's a great planet.\n",
            "I think it's a great planet. I think it's a great planet. I think it's a great planet. I think it's a great planet. I think it's a great planet. I think it's a great planet. I think it's a great planet. I think it's a great planet. I think it's a great planet. I think it's a great planet. I think it's a great planet. I think it's a great planet. I think it's a great planet. I think it's a great planet. I think it's a great planet. I think it's a great planet. I think it's a great planet. I think it's a great planet. I think it's a great planet. I think it's a great planet. I think it's a great planet. I think it's a great planet. I think it's a great planet. I think it's a great planet. I think it's a great planet. I think it's a great planet. I think it's a great planet. I think\n"
          ]
        }
      ],
      "source": [
        "print(non_finetuned(\"What do you think of Mars?\"))"
      ]
    },
    {
      "cell_type": "code",
      "execution_count": null,
      "metadata": {
        "height": 30,
        "id": "Hyf8F_hNjeev",
        "outputId": "d1f106cd-25dd-4817-e94e-629e189ea24a"
      },
      "outputs": [
        {
          "name": "stdout",
          "output_type": "stream",
          "text": [
            "I'm not sure if I've mentioned this before, but I'm a huge Taylor Swift fan. I've been a fan since her first album, and I've been a fan ever since. I've been a fan of her music, her style, her personality, and her music. I've been a fan of her music, her style, her personality, and her music. I've been a fan of her music, her style, her personality, and her music. I've been a fan of her music, her style, her personality, and her music. I've been a fan of her music, her style, her personality, and her music. I've been a fan of her music, her style, her personality, and her music. I've been a fan of her music, her style, her personality, and her music. I've been a fan of her music, her style, her personality, and her music. I've been a fan of her music, her style, her personality, and her music. I've been a fan of her music, her style, her personality, and her music. I\n"
          ]
        }
      ],
      "source": [
        "print(non_finetuned(\"taylor swift's best friend\"))"
      ]
    },
    {
      "cell_type": "code",
      "execution_count": null,
      "metadata": {
        "height": 115,
        "id": "9_XerjI0jeev",
        "outputId": "6ecc3614-4648-4877-d2f8-d29444486e9a"
      },
      "outputs": [
        {
          "name": "stdout",
          "output_type": "stream",
          "text": [
            "I'm sorry to hear that. I'll look into it.\n",
            "Customer: I'm not sure if I got the right blanket.\n",
            "Agent: I'm sorry to hear that. I'll look into it.\n",
            "Customer: I'm not sure if I got the right blanket. I'm not sure if I got the right blanket.\n",
            "Agent: I'm sorry to hear that. I'll look into it. I'll look into it.\n",
            "Customer: I'm not sure if I got the right blanket. I'm not sure if I got the right blanket. I'm not sure if I got the right blanket.\n",
            "Agent: I'm sorry to hear that. I'll look into it. I'll look into it. I'll look into it.\n",
            "Customer: I'm not sure if I got the right blanket. I'm not sure if I got the right blanket. I'm not sure if I got the right blanket. I'm not sure if I got the right blanket. I'm not sure if I got the right blanket. I'm not sure if I got the right blank\n"
          ]
        }
      ],
      "source": [
        "print(non_finetuned(\"\"\"Agent: I'm here to help you with your Amazon deliver order.\n",
        "Customer: I didn't get my item\n",
        "Agent: I'm sorry to hear that. Which item was it?\n",
        "Customer: the blanket\n",
        "Agent:\"\"\"))"
      ]
    },
    {
      "cell_type": "markdown",
      "metadata": {
        "id": "hH-mfD_Rjeew"
      },
      "source": [
        "### Compare to finetuned models"
      ]
    },
    {
      "cell_type": "code",
      "execution_count": null,
      "metadata": {
        "height": 30,
        "id": "tQOV2yLHjeew"
      },
      "outputs": [],
      "source": [
        "finetuned_model = BasicModelRunner(\"meta-llama/Llama-2-7b-chat-hf\")"
      ]
    },
    {
      "cell_type": "code",
      "execution_count": null,
      "metadata": {
        "height": 47,
        "id": "wsedXcRvjeew"
      },
      "outputs": [],
      "source": [
        "finetuned_output = finetuned_model(\"Tell me how to train my dog to sit\")"
      ]
    },
    {
      "cell_type": "code",
      "execution_count": null,
      "metadata": {
        "height": 30,
        "id": "lHVvu-yWjeew",
        "outputId": "0dc2269d-06ce-4f3c-dd17-cf2fadab5394"
      },
      "outputs": [
        {
          "name": "stdout",
          "output_type": "stream",
          "text": [
            "on command.\n",
            "How to Train Your Dog to Sit on Command\n",
            "Training your dog to sit on command is a basic obedience command that can be achieved with patience, consistency, and positive reinforcement. Here's a step-by-step guide on how to train your dog to sit on command:\n",
            "1. Choose a Quiet and Distraction-Free Area: Find a quiet area with minimal distractions where your dog can focus on you.\n",
            "2. Have Treats Ready: Choose your dog's favorite treats and have them ready to use as rewards.\n",
            "3. Stand in Front of Your Dog: Stand in front of your dog and hold a treat close to their nose.\n",
            "4. Move the Treat Above Your Dog's Head: Slowly move the treat above your dog's head, towards their tail. As your dog follows the treat with their nose, their bottom will naturally lower into a sitting position.\n",
            "5. Say \"Sit\" and Reward: As soon as your dog's butt touches the ground, say \"Sit\" and give them the treat. It's important to say the command word as they're performing\n"
          ]
        }
      ],
      "source": [
        "print(finetuned_output)"
      ]
    },
    {
      "cell_type": "code",
      "execution_count": null,
      "metadata": {
        "height": 47,
        "id": "75wLSgqmjeex"
      },
      "outputs": [],
      "source": [
        "print(finetuned_model(\"[INST]Tell me how to train my dog to sit[/INST]\"))"
      ]
    },
    {
      "cell_type": "code",
      "execution_count": null,
      "metadata": {
        "height": 47,
        "id": "Z5KCh_0Zjeex"
      },
      "outputs": [],
      "source": [
        "print(non_finetuned(\"[INST]Tell me how to train my dog to sit[/INST]\"))"
      ]
    },
    {
      "cell_type": "code",
      "execution_count": null,
      "metadata": {
        "height": 30,
        "id": "iPZvoHa3jeex"
      },
      "outputs": [],
      "source": [
        "print(finetuned_model(\"What do you think of Mars?\"))"
      ]
    },
    {
      "cell_type": "code",
      "execution_count": null,
      "metadata": {
        "height": 30,
        "id": "ABfAdiKPjeex"
      },
      "outputs": [],
      "source": [
        "print(finetuned_model(\"taylor swift's best friend\"))"
      ]
    },
    {
      "cell_type": "code",
      "execution_count": null,
      "metadata": {
        "height": 115,
        "id": "t1LUKjZbjeex"
      },
      "outputs": [],
      "source": [
        "print(finetuned_model(\"\"\"Agent: I'm here to help you with your Amazon deliver order.\n",
        "Customer: I didn't get my item\n",
        "Agent: I'm sorry to hear that. Which item was it?\n",
        "Customer: the blanket\n",
        "Agent:\"\"\"))"
      ]
    },
    {
      "cell_type": "markdown",
      "metadata": {
        "id": "Y4TH12Z-jeex"
      },
      "source": [
        "### Compare to ChatGPT"
      ]
    },
    {
      "cell_type": "code",
      "execution_count": 16,
      "metadata": {
        "height": 30,
        "id": "GwFRCnE4jeex"
      },
      "outputs": [],
      "source": [
        "chatgpt = BasicModelRunner(\"chat-gpt\")"
      ]
    },
    {
      "cell_type": "code",
      "execution_count": 17,
      "metadata": {
        "height": 540,
        "colab": {
          "base_uri": "https://localhost:8080/"
        },
        "id": "kylstQDkjeey",
        "outputId": "9fea498d-1ab7-4570-e589-c238fb1b7c65"
      },
      "outputs": [
        {
          "output_type": "stream",
          "name": "stdout",
          "text": [
            "[Anime: 10, Entertainment: 8, Careers: 6, Sports: 5, News: 4]\n"
          ]
        }
      ],
      "source": [
        "print(chatgpt(\"\"\"I will give you text and I want you to understand its main ideas. Then it's going to be your job to give me the 5 top categories of interest that you classify the text into. I want your output to ONLY consist of a list of the 5 interests that you have classified the text into and a score of relevancy for the interests from 1 - 10.  Here is an example, that you should follow:\n",
        "\n",
        "Examples: Text: Big variety of snacks (sweet and savoury) and very good espresso Machiatto with reasonable prices, you can't get wrong if you choose the place for a quick meal or coffee.\n",
        "Your output: [Food: 10, Cooking: 8, Nature and the Outdoors: 6, Travel: 4, Hobbies: 5]\n",
        "\n",
        "The first piece of text that I want you to analyze is:\n",
        "\n",
        "```\n",
        "Is there a Lore Reason why Narutos Dad married this woman,dankruto\n",
        "Naruto refrence in Barbie,Animemes\n",
        "We all praise and love this series but what is in your opinion the worst thing in naruto,Naruto\n",
        "Kishimoto was asked which Naruto character he would date Did you expect this answer,Naruto\n",
        "girls in naruto vs boruto,Boruto\n",
        "Hold up Naruto ,dankruto\n",
        "Its crazy all the PPV buys everything wil be credited to dillion for his fight promotion and literally every one will buy to see dillion fight they talking credit from ksi but dillion is the only reason people are buying this ppvdillion should get ppv shares,ksi\n",
        "Applied to 250 jobs got three interviews the rest were rejected,resumes\n",
        "Struggling with basic programming concepts at internship,csMajors\n",
        "I was fired What do I tell prospective employers,careerguidance\n",
        "JJ if you really love PRIME down a whole bottle right now NO EXCUSES,ksi\n",
        "Feeling lost at 25 What would you do,careerguidance\n",
        "Are office workers actuallyworking,jobs\n",
        "Software Engineer  Why Am I Not Getting Interviews Context in comments,resumes\n",
        "I hate how fake HR people are,jobs\n",
        "Jj taunting speed back after arsenal scored ,ksi\n",
        "Now that JJ and Logan are friends they should actually redo this the right way,ksi\n",
        "Some Republicans Worry that a Trump Nomination Could Bring Steep DownBallot Losses for the GOP,politics\n",
        "Twitter accused of helping Saudi Arabia commit human rights abuses,news\n",
        "Our foster kitten who we got Friday night meows all night if someone isnt in the bathroom with her My 9 year old son has graciously volunteered to sleep in the bathtub the last couple of nights so we could all sleep,cats\n",
        "```\n",
        "\"\"\"))"
      ]
    },
    {
      "cell_type": "code",
      "execution_count": null,
      "metadata": {
        "height": 30,
        "id": "rekUWt4Qjeey"
      },
      "outputs": [],
      "source": []
    },
    {
      "cell_type": "code",
      "execution_count": null,
      "metadata": {
        "height": 30,
        "id": "m_IrDsRGjeey"
      },
      "outputs": [],
      "source": []
    }
  ],
  "metadata": {
    "colab": {
      "gpuType": "T4",
      "provenance": []
    },
    "kernelspec": {
      "display_name": "Python 3 (ipykernel)",
      "language": "python",
      "name": "python3"
    },
    "language_info": {
      "codemirror_mode": {
        "name": "ipython",
        "version": 3
      },
      "file_extension": ".py",
      "mimetype": "text/x-python",
      "name": "python",
      "nbconvert_exporter": "python",
      "pygments_lexer": "ipython3",
      "version": "3.9.17"
    }
  },
  "nbformat": 4,
  "nbformat_minor": 0
}